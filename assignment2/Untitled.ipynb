{
 "cells": [
  {
   "cell_type": "code",
   "execution_count": 6,
   "metadata": {},
   "outputs": [
    {
     "name": "stdout",
     "output_type": "stream",
     "text": [
      "(3, 4, 2)\n",
      "8\n"
     ]
    }
   ],
   "source": [
    "import numpy as np\n",
    "x=np.random.randn(3,4,2)\n",
    "print(x.shape)\n",
    "s = 1\n",
    "for i in x.shape:\n",
    "    s *= i\n",
    "print(int(s/x.shape[0]))"
   ]
  },
  {
   "cell_type": "code",
   "execution_count": 11,
   "metadata": {},
   "outputs": [
    {
     "name": "stdout",
     "output_type": "stream",
     "text": [
      "[[0. 0.]\n",
      " [0. 0.]]\n",
      "[[0 1]\n",
      " [1 0]]\n"
     ]
    }
   ],
   "source": [
    "x=np.array([[-1, 1],[1,-2]])\n",
    "out = np.zeros(x.shape)\n",
    "print(out)\n",
    "y=np.maximum(0, x)\n",
    "print(y)"
   ]
  },
  {
   "cell_type": "code",
   "execution_count": 15,
   "metadata": {},
   "outputs": [
    {
     "name": "stdout",
     "output_type": "stream",
     "text": [
      "w1\n"
     ]
    }
   ],
   "source": [
    "a = 'w'\n",
    "a = 'w' + str(1)\n",
    "print(a)"
   ]
  },
  {
   "cell_type": "code",
   "execution_count": 16,
   "metadata": {},
   "outputs": [
    {
     "data": {
      "text/plain": [
       "[10, 9, 8, 7, 6, 5, 4, 3, 2, 1]"
      ]
     },
     "execution_count": 16,
     "metadata": {},
     "output_type": "execute_result"
    }
   ],
   "source": [
    "list(range(10,0,-1))"
   ]
  },
  {
   "cell_type": "code",
   "execution_count": 17,
   "metadata": {},
   "outputs": [
    {
     "data": {
      "text/plain": [
       "[0, 1, 2, 3, 4, 5, 6, 7, 8, 9]"
      ]
     },
     "execution_count": 17,
     "metadata": {},
     "output_type": "execute_result"
    }
   ],
   "source": [
    "list(range(10))"
   ]
  },
  {
   "cell_type": "code",
   "execution_count": 10,
   "metadata": {},
   "outputs": [
    {
     "name": "stdout",
     "output_type": "stream",
     "text": [
      "[[0.32340955 0.47800509 0.92933119]\n",
      " [0.56544229 0.05157258 0.43024634]]\n",
      "[[False False  True]\n",
      " [False  True  True]]\n",
      "[[1.42857143 1.42857143 1.42857143]\n",
      " [1.42857143 0.         1.42857143]]\n",
      "[[1.42857143 1.42857143 1.42857143]\n",
      " [1.42857143 0.         1.42857143]]\n"
     ]
    }
   ],
   "source": [
    "import numpy as np\n",
    "x = np.random.rand(2,3)\n",
    "w = np.ones([2, 3], dtype=np.float32)\n",
    "print(x)\n",
    "p=0.3\n",
    "print(y>=p)\n",
    "y = (x>=p)/(1-p)\n",
    "print(y)\n",
    "print(w * y)"
   ]
  }
 ],
 "metadata": {
  "kernelspec": {
   "display_name": "Python 3",
   "language": "python",
   "name": "python3"
  },
  "language_info": {
   "codemirror_mode": {
    "name": "ipython",
    "version": 3
   },
   "file_extension": ".py",
   "mimetype": "text/x-python",
   "name": "python",
   "nbconvert_exporter": "python",
   "pygments_lexer": "ipython3",
   "version": "3.7.6"
  }
 },
 "nbformat": 4,
 "nbformat_minor": 4
}
